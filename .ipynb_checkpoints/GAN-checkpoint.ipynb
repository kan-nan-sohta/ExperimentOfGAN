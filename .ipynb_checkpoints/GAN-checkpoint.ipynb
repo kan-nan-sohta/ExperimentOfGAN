{
 "cells": [
  {
   "cell_type": "code",
   "execution_count": 2,
   "metadata": {},
   "outputs": [],
   "source": [
    "import numpy as np\n",
    "import matplotlib.pyplot as plt\n",
    "%matplotlib inline\n",
    "import scipy as sc\n",
    "from scipy.stats import norm"
   ]
  },
  {
   "cell_type": "code",
   "execution_count": 3,
   "metadata": {},
   "outputs": [
    {
     "data": {
      "text/plain": [
       "[<matplotlib.lines.Line2D at 0x7fe6096ffa20>]"
      ]
     },
     "execution_count": 3,
     "metadata": {},
     "output_type": "execute_result"
    },
    {
     "data": {
      "image/png": "[encoded data removed]",
      "text/plain": [
       "<Figure size 432x288 with 1 Axes>"
      ]
     },
     "metadata": {
      "needs_background": "light"
     },
     "output_type": "display_data"
    }
   ],
   "source": [
    "x = np.linspace(-5, 5, 1000)\n",
    "uniform = np.zeros(1000)\n",
    "uniform[300: 700] = 1/4\n",
    "gauss1 = norm.pdf(x, -3, 1)*0.4\n",
    "gauss2 = norm.pdf(x, 2, 2)*0.6\n",
    "gauss3 = norm.pdf(x, 4, 2)\n",
    "plt.plot(x, gauss1/0.4/(gauss3+gauss1/0.4))"
   ]
  },
  {
   "cell_type": "code",
   "execution_count": 4,
   "metadata": {},
   "outputs": [
    {
     "data": {
      "text/plain": [
       "(array([ 20.,  31.,  42.,  31.,  52.,  65.,  68.,  60.,  87.,  79.,  88.,\n",
       "        109., 116., 133., 135., 140., 178., 142., 168., 163., 152., 161.,\n",
       "        149., 164., 145., 163., 143., 146., 125., 139., 116.,  96.,  99.,\n",
       "         84.,  88.,  78.,  70.,  75.,  56.,  71.,  62.,  55.,  72.,  71.,\n",
       "         51.,  52.,  67.,  58.,  72.,  81.,  53.,  76.,  85.,  81.,  90.,\n",
       "         84., 101.,  81., 103., 105., 111., 108., 113., 115., 118., 142.,\n",
       "        117., 121., 113., 126., 126., 131., 123., 102., 119., 123., 100.,\n",
       "        107., 100., 118., 109., 102., 119.,  94.,  90.,  82.,  88.,  80.,\n",
       "         84.,  90.,  72.,  59.,  55.,  51.,  67.,  50.,  47.,  44.,  45.,\n",
       "         35.]),\n",
       " array([-4.99350509e+00, -4.89357651e+00, -4.79364794e+00, -4.69371937e+00,\n",
       "        -4.59379080e+00, -4.49386222e+00, -4.39393365e+00, -4.29400508e+00,\n",
       "        -4.19407651e+00, -4.09414793e+00, -3.99421936e+00, -3.89429079e+00,\n",
       "        -3.79436222e+00, -3.69443364e+00, -3.59450507e+00, -3.49457650e+00,\n",
       "        -3.39464793e+00, -3.29471935e+00, -3.19479078e+00, -3.09486221e+00,\n",
       "        -2.99493364e+00, -2.89500506e+00, -2.79507649e+00, -2.69514792e+00,\n",
       "        -2.59521935e+00, -2.49529077e+00, -2.39536220e+00, -2.29543363e+00,\n",
       "        -2.19550506e+00, -2.09557648e+00, -1.99564791e+00, -1.89571934e+00,\n",
       "        -1.79579077e+00, -1.69586219e+00, -1.59593362e+00, -1.49600505e+00,\n",
       "        -1.39607648e+00, -1.29614790e+00, -1.19621933e+00, -1.09629076e+00,\n",
       "        -9.96362187e-01, -8.96433615e-01, -7.96505042e-01, -6.96576470e-01,\n",
       "        -5.96647897e-01, -4.96719325e-01, -3.96790753e-01, -2.96862180e-01,\n",
       "        -1.96933608e-01, -9.70050351e-02,  2.92353740e-03,  1.02852110e-01,\n",
       "         2.02780682e-01,  3.02709255e-01,  4.02637827e-01,  5.02566400e-01,\n",
       "         6.02494972e-01,  7.02423545e-01,  8.02352117e-01,  9.02280690e-01,\n",
       "         1.00220926e+00,  1.10213783e+00,  1.20206641e+00,  1.30199498e+00,\n",
       "         1.40192355e+00,  1.50185212e+00,  1.60178070e+00,  1.70170927e+00,\n",
       "         1.80163784e+00,  1.90156641e+00,  2.00149499e+00,  2.10142356e+00,\n",
       "         2.20135213e+00,  2.30128070e+00,  2.40120928e+00,  2.50113785e+00,\n",
       "         2.60106642e+00,  2.70099499e+00,  2.80092357e+00,  2.90085214e+00,\n",
       "         3.00078071e+00,  3.10070928e+00,  3.20063786e+00,  3.30056643e+00,\n",
       "         3.40049500e+00,  3.50042357e+00,  3.60035215e+00,  3.70028072e+00,\n",
       "         3.80020929e+00,  3.90013786e+00,  4.00006644e+00,  4.09999501e+00,\n",
       "         4.19992358e+00,  4.29985215e+00,  4.39978073e+00,  4.49970930e+00,\n",
       "         4.59963787e+00,  4.69956644e+00,  4.79949502e+00,  4.89942359e+00,\n",
       "         4.99935216e+00]),\n",
       " <BarContainer object of 100 artists>)"
      ]
     },
     "execution_count": 4,
     "metadata": {},
     "output_type": "execute_result"
    },
    {
     "data": {
      "image/png": "[encoded data removed]",
      "text/plain": [
       "<Figure size 432x288 with 1 Axes>"
      ]
     },
     "metadata": {
      "needs_background": "light"
     },
     "output_type": "display_data"
    }
   ],
   "source": [
    "a1 = norm.rvs(loc=-3, scale=1, size=4000)\n",
    "a2 = norm.rvs(loc=2, scale=2, size=6000)\n",
    "a = np.concatenate([a1, a2])\n",
    "a = np.delete(a, np.where(a<-5))\n",
    "a = np.delete(a, np.where(a>5))\n",
    "plt.hist(a, bins=100)"
   ]
  },
  {
   "cell_type": "code",
   "execution_count": 11,
   "metadata": {},
   "outputs": [],
   "source": [
    "%matplotlib inline\n",
    "import matplotlib.pyplot as plt\n",
    "import numpy as np\n",
    "from keras.datasets import mnist\n",
    "from keras.layers import Dense, Flatten, Reshape\n",
    "from keras.layers.advanced_activations import LeakyReLU\n",
    "from keras.models import Sequential\n",
    "from keras.optimizers import Adam"
   ]
  },
  {
   "cell_type": "code",
   "execution_count": 17,
   "metadata": {},
   "outputs": [],
   "source": [
    "def build_generator():\n",
    "    model = Sequential()\n",
    "    model.add(Dense(10, input_dim=1))\n",
    "    model.add(LeakyReLU(alpha=0.01))\n",
    "    model.add(Dense(1, activation='tanh'))\n",
    "    return model"
   ]
  },
  {
   "cell_type": "code",
   "execution_count": 18,
   "metadata": {},
   "outputs": [],
   "source": [
    "def build_discriminator():\n",
    "    model = Sequential()\n",
    "    model.add(Dense(10, input_dim=1))\n",
    "    model.add(LeakyReLU(alpha=0.01))\n",
    "    model.add(Dense(1, activation='sigmoid'))\n",
    "    return model"
   ]
  },
  {
   "cell_type": "code",
   "execution_count": 19,
   "metadata": {},
   "outputs": [],
   "source": [
    "def build_gan(generator, discriminator):\n",
    "    model=Sequential()\n",
    "    model.add(generator)\n",
    "    model.add(discriminator)\n",
    "    return model"
   ]
  },
  {
   "cell_type": "code",
   "execution_count": 21,
   "metadata": {},
   "outputs": [],
   "source": [
    "discriminator = build_discriminator()\n",
    "discriminator.compile(loss = 'binary_crossentropy',\n",
    "                     optimizer=Adam(),\n",
    "                     metrics=['accuracy'])\n",
    "generator = build_generator()\n",
    "discriminator.trainable = False\n",
    "gan = build_gan(generator, discriminator)\n",
    "gan.compile(loss='binary_crossentropy', optimizer=Adam())"
   ]
  },
  {
   "cell_type": "code",
   "execution_count": null,
   "metadata": {
    "collapsed": true
   },
   "outputs": [],
   "source": []
  }
 ],
 "metadata": {
  "kernelspec": {
   "display_name": "GAN",
   "language": "python",
   "name": "gan"
  },
  "language_info": {
   "codemirror_mode": {
    "name": "ipython",
    "version": 3
   },
   "file_extension": ".py",
   "mimetype": "text/x-python",
   "name": "python",
   "nbconvert_exporter": "python",
   "pygments_lexer": "ipython3",
   "version": "3.6.9"
  }
 },
 "nbformat": 4,
 "nbformat_minor": 4
}
